{
 "cells": [
  {
   "cell_type": "code",
   "execution_count": 28,
   "id": "c0d24048",
   "metadata": {},
   "outputs": [],
   "source": [
    "from torchvision import transforms as T\n",
    "import matplotlib.pyplot as plt\n",
    "from torchvision.datasets import ImageFolder\n",
    "from torch.utils.data import DataLoader\n",
    "from torchvision import datasets, transforms\n",
    "import torch\n",
    "import torch.nn as nn\n",
    "import torch.nn.functional as F\n",
    "from functools import reduce\n",
    "import torch.optim as optim"
   ]
  },
  {
   "cell_type": "code",
   "execution_count": 11,
   "id": "d811b8ad",
   "metadata": {},
   "outputs": [
    {
     "name": "stdout",
     "output_type": "stream",
     "text": [
      "Train Classes\n",
      "{'0': 0, '1': 1, '10': 2, '11': 3, '12': 4, '13': 5, '14': 6, '15': 7, '16': 8, '17': 9, '18': 10, '19': 11, '2': 12, '20': 13, '21': 14, '22': 15, '23': 16, '24': 17, '25': 18, '26': 19, '27': 20, '28': 21, '29': 22, '3': 23, '30': 24, '31': 25, '32': 26, '33': 27, '34': 28, '35': 29, '36': 30, '37': 31, '38': 32, '39': 33, '4': 34, '40': 35, '41': 36, '42': 37, '5': 38, '6': 39, '7': 40, '8': 41, '9': 42}\n",
      "Test Classes\n",
      "{'0': 0, '1': 1, '10': 2, '11': 3, '12': 4, '13': 5, '14': 6, '15': 7, '16': 8, '17': 9, '18': 10, '19': 11, '2': 12, '20': 13, '21': 14, '22': 15, '23': 16, '24': 17, '25': 18, '26': 19, '27': 20, '28': 21, '29': 22, '3': 23, '30': 24, '31': 25, '32': 26, '33': 27, '34': 28, '35': 29, '36': 30, '37': 31, '38': 32, '39': 33, '4': 34, '40': 35, '41': 36, '42': 37, '5': 38, '6': 39, '7': 40, '8': 41, '9': 42}\n"
     ]
    }
   ],
   "source": [
    "##############################\n",
    "# Look Train and Test Classes\n",
    "##############################\n",
    "train_data = ImageFolder('./Dataset/Train')\n",
    "test_data = ImageFolder('./Dataset/Test')\n",
    "\n",
    "print(\"Train Classes\")\n",
    "print(train_data.class_to_idx)\n",
    "print(\"Test Classes\")\n",
    "print(test_data.class_to_idx)\n"
   ]
  },
  {
   "cell_type": "code",
   "execution_count": 34,
   "id": "f8f7f705",
   "metadata": {},
   "outputs": [],
   "source": [
    "##############################\n",
    "# Load Train and Test Data\n",
    "##############################\n",
    "\n",
    "train_data = ImageFolder(\n",
    "            './Dataset/Train',\n",
    "            transform=transforms.Compose([transforms.Resize((32, 32)), transforms.ToTensor()]\n",
    "            )\n",
    ")\n",
    "test_data = ImageFolder(\n",
    "            './Dataset/Test',\n",
    "            transform=transforms.Compose([transforms.Resize((32, 32)), transforms.ToTensor()])\n",
    ")\n",
    "\n",
    "nb_data = 1 * (len(train_data)) // 10 # 10% training, 90% validation\n",
    "train_data_sub = torch.utils.data.Subset(train_data, torch.randperm(len(train_data))[:nb_data])\n",
    "\n",
    "train_loader = DataLoader(\n",
    "    train_data,\n",
    "    batch_size=64,\n",
    "    shuffle=True\n",
    ")\n",
    "\n",
    "test_loader = DataLoader(\n",
    "    test_data, \n",
    "    batch_size=64,\n",
    "    shuffle=True\n",
    ")\n",
    "\n",
    "train_sub_loader = DataLoader(\n",
    "    train_data_sub, \n",
    "    batch_size=256, \n",
    "    num_workers=4, \n",
    "    shuffle=True)"
   ]
  },
  {
   "cell_type": "code",
   "execution_count": 19,
   "id": "16b3cfb3",
   "metadata": {},
   "outputs": [],
   "source": [
    "##############################\n",
    "# Use coda if it's available\n",
    "##############################\n",
    "device = torch.device('cuda' if torch.cuda.is_available() else 'cpu')"
   ]
  },
  {
   "cell_type": "code",
   "execution_count": 35,
   "id": "7f4d63cf",
   "metadata": {},
   "outputs": [
    {
     "name": "stdout",
     "output_type": "stream",
     "text": [
      "size original train set = 39209\n",
      "size reduced train set = 12630\n",
      "size validation set = 3920\n",
      " \n"
     ]
    }
   ],
   "source": [
    "##############################\n",
    "# Train and Test Size\n",
    "##############################\n",
    "print(f\"size original train set = {len(train_data)}\\nsize reduced train set = {len(test_data)}\\nsize validation set = {len(train_data_sub)}\\n \")"
   ]
  },
  {
   "cell_type": "code",
   "execution_count": 22,
   "id": "b24dc40b",
   "metadata": {},
   "outputs": [
    {
     "name": "stdout",
     "output_type": "stream",
     "text": [
      "['0', '1', '10', '11', '12', '13', '14', '15', '16', '17', '18', '19', '2', '20', '21', '22', '23', '24', '25', '26', '27', '28', '29', '3', '30', '31', '32', '33', '34', '35', '36', '37', '38', '39', '4', '40', '41', '42', '5', '6', '7', '8', '9']\n"
     ]
    }
   ],
   "source": [
    "#List of classes\n",
    "class_name = train_data.classes\n",
    "print(class_name)"
   ]
  },
  {
   "cell_type": "code",
   "execution_count": 24,
   "id": "d57467fc",
   "metadata": {},
   "outputs": [],
   "source": [
    "##############################\n",
    "# CNN Model\n",
    "##############################\n",
    "class RouteModel(nn.Module):\n",
    "    def __init__(self):\n",
    "        super().__init__()\n",
    "        self.conv1 = nn.Conv2d(3, 192, kernel_size=(5, 5))\n",
    "        self.conv2 = nn.Conv2d(192, 1500, kernel_size=(5, 5))\n",
    "        self.conv3 = nn.Conv2d(1500, 120, kernel_size=(5, 5))\n",
    "        self.fc1 = nn.Linear(120, 84)\n",
    "        self.fc2 = nn.Linear(84, 43)\n",
    "\n",
    "    def forward(self, input):\n",
    "        layer1 = F.relu(self.conv1(input))                          \n",
    "        layer2 = F.max_pool2d(layer1, kernel_size=(2, 2), stride=2) \n",
    "        layer3 = F.relu(self.conv2(layer2))                         \n",
    "        layer4 = F.max_pool2d(layer3, kernel_size=(2, 2), stride=2) \n",
    "        layer5 = F.relu(self.conv3(layer4))                         \n",
    "        layer6 = F.relu(self.fc1(torch.flatten(layer5,1)))          \n",
    "        layer7 = self.fc2(layer6)                   \n",
    "        return layer6\n",
    "\n",
    "model = RouteModel()"
   ]
  },
  {
   "cell_type": "code",
   "execution_count": 25,
   "id": "01d345bd",
   "metadata": {},
   "outputs": [
    {
     "name": "stdout",
     "output_type": "stream",
     "text": [
      "torch.Size([192, 3, 5, 5])\n",
      "torch.Size([192])\n",
      "torch.Size([1500, 192, 5, 5])\n",
      "torch.Size([1500])\n",
      "torch.Size([120, 1500, 5, 5])\n",
      "torch.Size([120])\n",
      "torch.Size([84, 120])\n",
      "torch.Size([84])\n",
      "torch.Size([43, 84])\n",
      "torch.Size([43])\n",
      "total nb parameters:  11730031\n"
     ]
    }
   ],
   "source": [
    "############################################\n",
    "# Check the number of parameters of the CNN\n",
    "############################################\n",
    "total_nb_par = 0\n",
    "for p in model.parameters():\n",
    "    print(p.shape)\n",
    "    total_nb_par += reduce(lambda x, y: x*y, p.shape, 1)\n",
    "print(\"total nb parameters: \", total_nb_par)"
   ]
  },
  {
   "cell_type": "code",
   "execution_count": 27,
   "id": "4c9fdc03",
   "metadata": {},
   "outputs": [],
   "source": [
    "# fix a notion of accuracy for the CNN model,\n",
    "def validate(predictions, labels):\n",
    "    nb_errors = ((predictions.argmax(1)) != labels).sum()\n",
    "    return (len(predictions)-nb_errors).item()"
   ]
  },
  {
   "cell_type": "code",
   "execution_count": 29,
   "id": "5ce5a1f8",
   "metadata": {},
   "outputs": [],
   "source": [
    "##############################\n",
    "# Trainning \n",
    "##############################\n",
    "def train_loop(\n",
    "    train_loader, \n",
    "    validation_loader,  # for monitoring overfitting\n",
    "    model, \n",
    "    loss_map, \n",
    "    validation_map,     # for monitoring overfitting\n",
    "    lr=1e-3,  #learning Rate : le pas pour changer les paramètres\n",
    "    epochs=10, #Si le dataset est petit il nous faut un peut plus d'epochs pour optimiser les différents paramètres\n",
    "    weight_decay=0.0):  # a regularisation parameter, discussed later\n",
    "\n",
    "    # use gpu if available    \n",
    "    print(device)\n",
    "    #model.to(device)\n",
    "\n",
    "    # create optimizer\n",
    "    optimizer = optim.Adam(model.parameters(), lr=lr, weight_decay=weight_decay)    # weight_decay, discussed later\n",
    "\n",
    "    # Train model    \n",
    "    history = [] # to monitor learning: list of  {epoch: int, loss: float, train_acc:float, val_acc:float}\n",
    "    for epoch in range(epochs):\n",
    "        loss_epoch = 0.\n",
    "        train_acc = 0.\n",
    "        val_acc = 0.\n",
    "        model.train()   # for dropout and batch normalisation, discussed later\n",
    "        \n",
    "        for images, labels in train_loader:\n",
    "            # Transfers data to GPU\n",
    "            images, labels = images.to(device), labels.to(device)\n",
    "            # Primal computation\n",
    "            output = model(images)            \n",
    "            loss = loss_map(output, labels)            \n",
    "            # Gradient computation\n",
    "            model.zero_grad()\n",
    "            loss.backward()\n",
    "            # perform parameter update based on current gradients\n",
    "            optimizer.step()\n",
    "            # compute the epoch training loss\n",
    "            loss_epoch += loss.item()\n",
    "            train_acc += validation_map(output, labels)\n",
    "        # compute validation accuracy\n",
    "        model.eval()    # for dropout and batch normalisation, discussed later\n",
    "        with torch.no_grad():\n",
    "            for images, labels in validation_loader:\n",
    "                # Transfers data to GPU\n",
    "                images, labels = images.to(device), labels.to(device)\n",
    "                val_acc += validation_map(model(images), labels)\n",
    "            train_acc = 100*train_acc/len(train_loader.dataset)\n",
    "            val_acc = 100*val_acc/len(validation_loader.dataset)\n",
    "        history.append({\"epoch\" : epoch, \"loss\" : loss_epoch, \"train_acc\" : train_acc, \"val_acc\" : val_acc})\n",
    "        if epoch % 10 == 9 or epoch == 0:\n",
    "            print(f\"epoch : {epoch + 1}/{epochs}, loss = {loss_epoch:.6f}, train_acc = {train_acc:.2f}, val_acc = {val_acc:.2f}\")\n",
    "    return history"
   ]
  },
  {
   "cell_type": "code",
   "execution_count": 30,
   "id": "f51a7337",
   "metadata": {},
   "outputs": [],
   "source": [
    "###################################################\n",
    "# Show loss and accuracy of trainning and test set\n",
    "###################################################\n",
    "def show_history(history):\n",
    "    figure, axis = plt.subplots(1, 2)\n",
    "    axis[0].plot([d[\"epoch\"] for d in history], [d[\"loss\"] for d in history])\n",
    "    axis[0].set_title(\"Loss per epoch\")\n",
    "\n",
    "    axis[1].plot([d[\"epoch\"] for d in history], [d[\"train_acc\"] for d in history], label=\"train\")\n",
    "    axis[1].plot([d[\"epoch\"] for d in history], [d[\"val_acc\"] for d in history], label=\"validation\")\n",
    "    axis[1].set_title(\"Accuracy per epoch\")\n",
    "\n",
    "    plt.legend()\n",
    "    plt.show()"
   ]
  },
  {
   "cell_type": "code",
   "execution_count": 36,
   "id": "720cfc9c",
   "metadata": {},
   "outputs": [
    {
     "name": "stdout",
     "output_type": "stream",
     "text": [
      "cpu\n",
      "epoch : 1/100, loss = 66.082667, train_acc = 6.30, val_acc = 11.43\n",
      "epoch : 10/100, loss = 11.968546, train_acc = 84.29, val_acc = 87.60\n",
      "epoch : 20/100, loss = 6.609342, train_acc = 91.12, val_acc = 91.66\n",
      "epoch : 30/100, loss = 5.964261, train_acc = 91.91, val_acc = 91.91\n",
      "epoch : 40/100, loss = 5.962666, train_acc = 92.07, val_acc = 91.94\n",
      "epoch : 50/100, loss = 5.698006, train_acc = 92.19, val_acc = 92.09\n",
      "epoch : 60/100, loss = 5.762299, train_acc = 92.12, val_acc = 92.17\n",
      "epoch : 70/100, loss = 5.834362, train_acc = 92.14, val_acc = 92.19\n",
      "epoch : 80/100, loss = 5.792191, train_acc = 92.12, val_acc = 92.19\n",
      "epoch : 90/100, loss = 5.790643, train_acc = 92.19, val_acc = 92.07\n",
      "epoch : 100/100, loss = 5.712951, train_acc = 92.14, val_acc = 92.19\n",
      "Training phase\n"
     ]
    },
    {
     "data": {
      "image/png": "[encoded data removed]",
      "text/plain": [
       "<Figure size 640x480 with 2 Axes>"
      ]
     },
     "metadata": {},
     "output_type": "display_data"
    }
   ],
   "source": [
    "history = train_loop(\n",
    "    train_loader=train_sub_loader, \n",
    "    validation_loader= train_sub_loader,\n",
    "    model=model, \n",
    "    loss_map=nn.CrossEntropyLoss(),\n",
    "    validation_map=validate,\n",
    "    lr=0.001,\n",
    "    epochs=100)\n",
    "\n",
    "print(\"Training phase\")\n",
    "show_history(history)"
   ]
  }
 ],
 "metadata": {
  "kernelspec": {
   "display_name": "Python 3 (ipykernel)",
   "language": "python",
   "name": "python3"
  },
  "language_info": {
   "codemirror_mode": {
    "name": "ipython",
    "version": 3
   },
   "file_extension": ".py",
   "mimetype": "text/x-python",
   "name": "python",
   "nbconvert_exporter": "python",
   "pygments_lexer": "ipython3",
   "version": "3.9.13"
  }
 },
 "nbformat": 4,
 "nbformat_minor": 5
}
